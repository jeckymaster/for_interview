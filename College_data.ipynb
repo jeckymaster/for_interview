{
 "cells": [
  {
   "cell_type": "code",
   "execution_count": null,
   "id": "4ce90aad",
   "metadata": {},
   "outputs": [],
   "source": [
    "dhwni.actowiz@gmail.com, actowiz.hr@gmail.com"
   ]
  },
  {
   "cell_type": "code",
   "execution_count": null,
   "id": "4befcce2",
   "metadata": {},
   "outputs": [],
   "source": [
    "import requests\n",
    "from urllib.request import Request, urlopen\n",
    "from bs4 import BeautifulSoup\n",
    "import pandas as pd\n",
    "import numpy as np"
   ]
  },
  {
   "cell_type": "code",
   "execution_count": null,
   "id": "dd8dda5e",
   "metadata": {},
   "outputs": [],
   "source": [
    "url = \"https://collegedunia.com/btech-colleges\""
   ]
  },
  {
   "cell_type": "code",
   "execution_count": null,
   "id": "71c9a39a",
   "metadata": {},
   "outputs": [],
   "source": [
    "HEADERS = {'User-Agent': 'Mozilla/5.0 (iPad; CPU OS 12_2 like Mac OS X) AppleWebKit/605.1.15 (KHTML, like Gecko) Mobile/15E148'}\n",
    "\n",
    "r = requests.get('https://collegedunia.com/btech-colleges', headers=HEADERS)"
   ]
  },
  {
   "cell_type": "code",
   "execution_count": null,
   "id": "46b1d4d4",
   "metadata": {},
   "outputs": [],
   "source": [
    "type(r)"
   ]
  },
  {
   "cell_type": "code",
   "execution_count": null,
   "id": "d6f078e0",
   "metadata": {},
   "outputs": [],
   "source": [
    "r.content"
   ]
  },
  {
   "cell_type": "code",
   "execution_count": null,
   "id": "c8104220",
   "metadata": {},
   "outputs": [],
   "source": [
    "soup = BeautifulSoup(r.content, \"html.parser\") # using html parser with beautifulsoup"
   ]
  },
  {
   "cell_type": "code",
   "execution_count": null,
   "id": "e0530a78",
   "metadata": {},
   "outputs": [],
   "source": [
    "soup"
   ]
  },
  {
   "cell_type": "code",
   "execution_count": 348,
   "id": "7c95ee48",
   "metadata": {},
   "outputs": [],
   "source": [
    "# empty list for each requirement\n",
    "\n",
    "college_name = []\n",
    "college_symbol = []\n",
    "course_fees = []\n",
    "course_name = []\n",
    "package_value_1 = []\n",
    "package_value_2 = []\n",
    "user_rating = []\n",
    "ranking = []"
   ]
  },
  {
   "cell_type": "code",
   "execution_count": null,
   "id": "025017f2",
   "metadata": {},
   "outputs": [],
   "source": [
    "page_data = soup('tbody' , attrs = {\"class\":\"jsx-2796823646 jsx-1342907234\"}) # getting the page data"
   ]
  },
  {
   "cell_type": "code",
   "execution_count": null,
   "id": "bb0f7a2a",
   "metadata": {},
   "outputs": [],
   "source": [
    "page_data"
   ]
  },
  {
   "cell_type": "code",
   "execution_count": 349,
   "id": "29761932",
   "metadata": {},
   "outputs": [],
   "source": [
    "for data in page_data:\n",
    "    name = data.find('a').get('data-csm-title')\n",
    "    logo = data.find('img').get('data-src')\n",
    "    fees = data.find_all('span')[5].text\n",
    "    coursename = data.find_all('span')[8].text\n",
    "    value1 = data.find_all('span')[10].text[2:]\n",
    "    value2 = data.find_all('span')[13].text[2:]\n",
    "    rating = data.find_all('span')[15].text.split('/')[0]\n",
    "    rank = data.find_all('span')[21].text.split('t')[0].replace('#', '')\n",
    "    \n",
    "    # insert all the scrapped data into lists\n",
    "    college_name.append(name)\n",
    "    college_symbol.append(logo)\n",
    "    course_fees.append(fees)\n",
    "    course_name.append(course_name)\n",
    "    package_value_1.append(value1)\n",
    "    package_value_2.append(value2)\n",
    "    user_rating.append(rating)\n",
    "    ranking.append(rank)"
   ]
  },
  {
   "cell_type": "code",
   "execution_count": 350,
   "id": "be685a5c",
   "metadata": {},
   "outputs": [],
   "source": [
    "# making a dataframe \n",
    "df = pd.DataFrame({'college_name' : college_name, \n",
    "                   \"college_symbol\" : college_symbol, \n",
    "                   \"course_fees\" : course_fees, \n",
    "                   \"course_name\" : course_name, \n",
    "                   \"package_value_1\" : package_value_1, \n",
    "                   \"package_value_2\" : package_value_2, \n",
    "                   \"user_rating\" : user_rating, \n",
    "                   \"ranking\" : ranking\n",
    "                  })"
   ]
  },
  {
   "cell_type": "code",
   "execution_count": 378,
   "id": "208bba61",
   "metadata": {},
   "outputs": [
    {
     "data": {
      "text/html": [
       "<div>\n",
       "<style scoped>\n",
       "    .dataframe tbody tr th:only-of-type {\n",
       "        vertical-align: middle;\n",
       "    }\n",
       "\n",
       "    .dataframe tbody tr th {\n",
       "        vertical-align: top;\n",
       "    }\n",
       "\n",
       "    .dataframe thead th {\n",
       "        text-align: right;\n",
       "    }\n",
       "</style>\n",
       "<table border=\"1\" class=\"dataframe\">\n",
       "  <thead>\n",
       "    <tr style=\"text-align: right;\">\n",
       "      <th></th>\n",
       "      <th>college_name</th>\n",
       "      <th>college_symbol</th>\n",
       "      <th>course_fees</th>\n",
       "      <th>course_name</th>\n",
       "      <th>package_value_1</th>\n",
       "      <th>package_value_2</th>\n",
       "      <th>user_rating</th>\n",
       "      <th>ranking</th>\n",
       "    </tr>\n",
       "  </thead>\n",
       "  <tbody>\n",
       "    <tr>\n",
       "      <th>0</th>\n",
       "      <td>IIT Madras - Indian Institute of Technology - ...</td>\n",
       "      <td>https://images.collegedunia.com/public/college...</td>\n",
       "      <td>₹ 2.10L</td>\n",
       "      <td>BE/B.Tech</td>\n",
       "      <td>21.48L</td>\n",
       "      <td>1.98Cr</td>\n",
       "      <td>8.7</td>\n",
       "      <td>3rd/216  in India   2022</td>\n",
       "    </tr>\n",
       "    <tr>\n",
       "      <th>1</th>\n",
       "      <td>RNS Institute of Technology - [RNSIT], Bangalore</td>\n",
       "      <td>https://images.collegedunia.com/public/college...</td>\n",
       "      <td>Compare</td>\n",
       "      <td>BE/B.Tech</td>\n",
       "      <td>5.50LAvg. Package</td>\n",
       "      <td>56LHigh. Package</td>\n",
       "      <td>High. Package</td>\n",
       "      <td>251</td>\n",
       "    </tr>\n",
       "    <tr>\n",
       "      <th>2</th>\n",
       "      <td>JK Lakshmipat University - [JKLU], Jaipur</td>\n",
       "      <td>https://images.collegedunia.com/public/college...</td>\n",
       "      <td>Compare</td>\n",
       "      <td>BE/B.Tech</td>\n",
       "      <td>8.07LAvg. Package</td>\n",
       "      <td>19.75LHigh. Package</td>\n",
       "      <td>High. Package</td>\n",
       "      <td>67</td>\n",
       "    </tr>\n",
       "    <tr>\n",
       "      <th>3</th>\n",
       "      <td>New Horizon College of Engineering - [NHCE], B...</td>\n",
       "      <td>https://images.collegedunia.com/public/college...</td>\n",
       "      <td>Compare</td>\n",
       "      <td>BE/B.Tech</td>\n",
       "      <td>30LHigh. Package</td>\n",
       "      <td>6/10</td>\n",
       "      <td>Best in Infrastructure</td>\n",
       "      <td>2023</td>\n",
       "    </tr>\n",
       "    <tr>\n",
       "      <th>4</th>\n",
       "      <td>MIT World Peace University - [MIT-WPU], Pune</td>\n",
       "      <td>https://images.collegedunia.com/public/college...</td>\n",
       "      <td>Compare</td>\n",
       "      <td>BE/B.Tech</td>\n",
       "      <td>7LAvg. Package</td>\n",
       "      <td>44.14LHigh. Package</td>\n",
       "      <td>High. Package</td>\n",
       "      <td>52</td>\n",
       "    </tr>\n",
       "  </tbody>\n",
       "</table>\n",
       "</div>"
      ],
      "text/plain": [
       "                                        college_name   \n",
       "0  IIT Madras - Indian Institute of Technology - ...  \\\n",
       "1   RNS Institute of Technology - [RNSIT], Bangalore   \n",
       "2          JK Lakshmipat University - [JKLU], Jaipur   \n",
       "3  New Horizon College of Engineering - [NHCE], B...   \n",
       "4       MIT World Peace University - [MIT-WPU], Pune   \n",
       "\n",
       "                                      college_symbol course_fees course_name   \n",
       "0  https://images.collegedunia.com/public/college...     ₹ 2.10L   BE/B.Tech  \\\n",
       "1  https://images.collegedunia.com/public/college...     Compare   BE/B.Tech   \n",
       "2  https://images.collegedunia.com/public/college...     Compare   BE/B.Tech   \n",
       "3  https://images.collegedunia.com/public/college...     Compare   BE/B.Tech   \n",
       "4  https://images.collegedunia.com/public/college...     Compare   BE/B.Tech   \n",
       "\n",
       "     package_value_1      package_value_2             user_rating   \n",
       "0             21.48L               1.98Cr                     8.7  \\\n",
       "1  5.50LAvg. Package     56LHigh. Package           High. Package   \n",
       "2  8.07LAvg. Package  19.75LHigh. Package           High. Package   \n",
       "3   30LHigh. Package                 6/10  Best in Infrastructure   \n",
       "4     7LAvg. Package  44.14LHigh. Package           High. Package   \n",
       "\n",
       "                    ranking  \n",
       "0  3rd/216  in India   2022  \n",
       "1                       251  \n",
       "2                        67  \n",
       "3                      2023  \n",
       "4                        52  "
      ]
     },
     "execution_count": 378,
     "metadata": {},
     "output_type": "execute_result"
    }
   ],
   "source": [
    "df.head()"
   ]
  },
  {
   "cell_type": "code",
   "execution_count": 379,
   "id": "e6877007",
   "metadata": {},
   "outputs": [],
   "source": [
    "df.to_csv(\"College_data.csv\")"
   ]
  },
  {
   "cell_type": "code",
   "execution_count": 376,
   "id": "e657a8fd",
   "metadata": {},
   "outputs": [],
   "source": []
  },
  {
   "cell_type": "code",
   "execution_count": null,
   "id": "f251b202",
   "metadata": {},
   "outputs": [],
   "source": []
  }
 ],
 "metadata": {
  "kernelspec": {
   "display_name": "Python 3 (ipykernel)",
   "language": "python",
   "name": "python3"
  },
  "language_info": {
   "codemirror_mode": {
    "name": "ipython",
    "version": 3
   },
   "file_extension": ".py",
   "mimetype": "text/x-python",
   "name": "python",
   "nbconvert_exporter": "python",
   "pygments_lexer": "ipython3",
   "version": "3.9.10"
  }
 },
 "nbformat": 4,
 "nbformat_minor": 5
}
